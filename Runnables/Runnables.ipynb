{
 "cells": [
  {
   "cell_type": "code",
   "execution_count": 2,
   "id": "827716a3",
   "metadata": {},
   "outputs": [],
   "source": [
    "import random"
   ]
  },
  {
   "cell_type": "code",
   "execution_count": 3,
   "id": "1fa9b45d",
   "metadata": {},
   "outputs": [],
   "source": [
    "class FakeLLM:\n",
    "    def __init__(self):\n",
    "        print('LLM created')\n",
    "    \n",
    "    def predict(seld,prompt):\n",
    "        response_list=['Delhi is Captial of india',\n",
    "                       'AI stands for Artifical Intellegence',\n",
    "                       'IPL is create league']\n",
    "        return {'response':random.choice(response_list)}\n",
    "    "
   ]
  },
  {
   "cell_type": "code",
   "execution_count": 10,
   "id": "85f8fb54",
   "metadata": {},
   "outputs": [
    {
     "name": "stdout",
     "output_type": "stream",
     "text": [
      "LLM created\n",
      "{'response': 'Delhi is Captial of india'}\n"
     ]
    }
   ],
   "source": [
    "llm=FakeLLM()\n",
    "\n",
    "print(llm.predict(\"What is capital of india\"))"
   ]
  },
  {
   "cell_type": "code",
   "execution_count": 12,
   "id": "f491915c",
   "metadata": {},
   "outputs": [],
   "source": [
    "class FakePromptTemplate:\n",
    "    def __init__(self,template,input_variable):\n",
    "        self.template=template\n",
    "        self.input_variable=input_variable\n",
    "    \n",
    "    def format(self,input_dict):\n",
    "        return self.template.format(**input_dict)"
   ]
  },
  {
   "cell_type": "code",
   "execution_count": 13,
   "id": "71b29a1c",
   "metadata": {},
   "outputs": [],
   "source": [
    "template=FakePromptTemplate(\n",
    "    template='Write a poem about {topic}',\n",
    "    input_variable=['topic']\n",
    ")"
   ]
  },
  {
   "cell_type": "code",
   "execution_count": 15,
   "id": "c4e645e9",
   "metadata": {},
   "outputs": [
    {
     "data": {
      "text/plain": [
       "'Write a poem about life'"
      ]
     },
     "execution_count": 15,
     "metadata": {},
     "output_type": "execute_result"
    }
   ],
   "source": [
    "template.format({\n",
    "    'topic':'life'\n",
    "})"
   ]
  },
  {
   "cell_type": "code",
   "execution_count": 16,
   "id": "edb549a2",
   "metadata": {},
   "outputs": [],
   "source": [
    "template=FakePromptTemplate(\n",
    "    template='Write a {length} poem about {topic}',\n",
    "    input_variable=['legngth','topic']\n",
    ")"
   ]
  },
  {
   "cell_type": "code",
   "execution_count": 17,
   "id": "38b08e40",
   "metadata": {},
   "outputs": [],
   "source": [
    "prompt=template.format({'topic':'india','length':'short'})"
   ]
  },
  {
   "cell_type": "code",
   "execution_count": 18,
   "id": "61555004",
   "metadata": {},
   "outputs": [
    {
     "name": "stdout",
     "output_type": "stream",
     "text": [
      "LLM created\n"
     ]
    }
   ],
   "source": [
    "llm=FakeLLM()"
   ]
  },
  {
   "cell_type": "code",
   "execution_count": 19,
   "id": "4652cc0b",
   "metadata": {},
   "outputs": [
    {
     "data": {
      "text/plain": [
       "{'response': 'AI stands for Artifical Intellegence'}"
      ]
     },
     "execution_count": 19,
     "metadata": {},
     "output_type": "execute_result"
    }
   ],
   "source": [
    "llm.predict(prompt)"
   ]
  },
  {
   "cell_type": "code",
   "execution_count": 21,
   "id": "96ab627e",
   "metadata": {},
   "outputs": [],
   "source": [
    "class FakeLLMChain:\n",
    "    def __init__(self,llm,prompt):\n",
    "        self.llm=llm \n",
    "        self.prompt=prompt\n",
    "    \n",
    "    def run(self,input_dict):\n",
    "        final_prompt=self.prompt.format(input_dict)\n",
    "        result=self.llm.predict(final_prompt)\n",
    "        return result['response']\n",
    "\n"
   ]
  },
  {
   "cell_type": "code",
   "execution_count": 22,
   "id": "626f3f6f",
   "metadata": {},
   "outputs": [],
   "source": [
    "template=FakePromptTemplate(\n",
    "    template='Write a {length} poem about {topic}',\n",
    "    input_variable=['legngth','topic']\n",
    ")"
   ]
  },
  {
   "cell_type": "code",
   "execution_count": 23,
   "id": "c9a840fb",
   "metadata": {},
   "outputs": [
    {
     "name": "stdout",
     "output_type": "stream",
     "text": [
      "LLM created\n"
     ]
    }
   ],
   "source": [
    "llm=FakeLLM()"
   ]
  },
  {
   "cell_type": "code",
   "execution_count": 24,
   "id": "a33e2280",
   "metadata": {},
   "outputs": [],
   "source": [
    "chain=FakeLLMChain(llm,template)"
   ]
  },
  {
   "cell_type": "code",
   "execution_count": 27,
   "id": "cb3bed86",
   "metadata": {},
   "outputs": [
    {
     "ename": "AttributeError",
     "evalue": "'FakeLLMChain' object has no attribute 'invoke'",
     "output_type": "error",
     "traceback": [
      "\u001b[31m---------------------------------------------------------------------------\u001b[39m",
      "\u001b[31mAttributeError\u001b[39m                            Traceback (most recent call last)",
      "\u001b[36mCell\u001b[39m\u001b[36m \u001b[39m\u001b[32mIn[27]\u001b[39m\u001b[32m, line 1\u001b[39m\n\u001b[32m----> \u001b[39m\u001b[32m1\u001b[39m \u001b[43mchain\u001b[49m\u001b[43m.\u001b[49m\u001b[43minvoke\u001b[49m({\u001b[33m'\u001b[39m\u001b[33mlength\u001b[39m\u001b[33m'\u001b[39m:\u001b[33m'\u001b[39m\u001b[33mshort\u001b[39m\u001b[33m'\u001b[39m,\u001b[33m'\u001b[39m\u001b[33mtopic\u001b[39m\u001b[33m'\u001b[39m:\u001b[33m'\u001b[39m\u001b[33mindia\u001b[39m\u001b[33m'\u001b[39m})\n",
      "\u001b[31mAttributeError\u001b[39m: 'FakeLLMChain' object has no attribute 'invoke'"
     ]
    }
   ],
   "source": [
    "chain.invoke({'length':'short','topic':'india'})"
   ]
  }
 ],
 "metadata": {
  "kernelspec": {
   "display_name": "myvenv (3.13.5)",
   "language": "python",
   "name": "python3"
  },
  "language_info": {
   "codemirror_mode": {
    "name": "ipython",
    "version": 3
   },
   "file_extension": ".py",
   "mimetype": "text/x-python",
   "name": "python",
   "nbconvert_exporter": "python",
   "pygments_lexer": "ipython3",
   "version": "3.13.5"
  }
 },
 "nbformat": 4,
 "nbformat_minor": 5
}
