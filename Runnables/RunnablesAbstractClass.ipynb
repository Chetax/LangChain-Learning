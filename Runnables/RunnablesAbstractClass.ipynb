{
 "cells": [
  {
   "cell_type": "code",
   "execution_count": 1,
   "id": "af601552",
   "metadata": {},
   "outputs": [],
   "source": [
    "from abc import ABC, abstractmethod"
   ]
  },
  {
   "cell_type": "code",
   "execution_count": 2,
   "id": "8b90448b",
   "metadata": {},
   "outputs": [],
   "source": [
    "class Runnable(ABC):\n",
    "    @abstractmethod\n",
    "    def invoke(input_data):\n",
    "        pass"
   ]
  },
  {
   "cell_type": "code",
   "execution_count": 13,
   "id": "5d7e63be",
   "metadata": {},
   "outputs": [],
   "source": [
    "import random\n",
    "class FakeLLM(Runnable):\n",
    "    def __init__(self):\n",
    "        print('LLM created')\n",
    "    \n",
    "    def invoke(self,prompt):\n",
    "        response_list=['Delhi is Captial of india',\n",
    "                       'AI stands for Artifical Intellegence',\n",
    "                       'IPL is create league']\n",
    "        return {'response':random.choice(response_list)}\n",
    "        \n",
    "\n",
    "    def predict(seld,prompt):\n",
    "        response_list=['Delhi is Captial of india',\n",
    "                       'AI stands for Artifical Intellegence',\n",
    "                       'IPL is create league']\n",
    "        return {'response':random.choice(response_list)}\n",
    "    "
   ]
  },
  {
   "cell_type": "code",
   "execution_count": 22,
   "id": "597e89f6",
   "metadata": {},
   "outputs": [
    {
     "name": "stdout",
     "output_type": "stream",
     "text": [
      "LLM created\n"
     ]
    },
    {
     "data": {
      "text/plain": [
       "{'response': 'IPL is create league'}"
      ]
     },
     "execution_count": 22,
     "metadata": {},
     "output_type": "execute_result"
    }
   ],
   "source": [
    "llm=FakeLLM()\n",
    "llm.invoke('What is IPL')"
   ]
  },
  {
   "cell_type": "code",
   "execution_count": 27,
   "id": "9a81e7f5",
   "metadata": {},
   "outputs": [],
   "source": [
    "class FakePromptTemplate(Runnable):\n",
    "    def __init__(self,template,input_variable):\n",
    "        self.template=template\n",
    "        self.input_variable=input_variable\n",
    "\n",
    "    def predict(seld,prompt):\n",
    "        response_list=['Delhi is Captial of india',\n",
    "                       'AI stands for Artifical Intellegence',\n",
    "                       'IPL is create league']\n",
    "        return {'response':random.choice(response_list)}\n",
    "    \n",
    "    def invoke(self,prompt):\n",
    "        response_list=['Delhi is Captial of india',\n",
    "                       'AI stands for Artifical Intellegence',\n",
    "                       'IPL is create league']\n",
    "        return {'response':random.choice(response_list)}\n",
    "    \n",
    "    def format(self,input_dict):\n",
    "        return self.template.format(**input_dict)\n",
    "\n",
    "    "
   ]
  },
  {
   "cell_type": "code",
   "execution_count": 28,
   "id": "6e9c5ee0",
   "metadata": {},
   "outputs": [],
   "source": [
    "template=FakePromptTemplate(\n",
    "    template='Write a poem about {topic}',\n",
    "    input_variable=['topic']\n",
    ")"
   ]
  },
  {
   "cell_type": "code",
   "execution_count": 29,
   "id": "dc5ce581",
   "metadata": {},
   "outputs": [
    {
     "name": "stdout",
     "output_type": "stream",
     "text": [
      "LLM created\n"
     ]
    }
   ],
   "source": [
    "llm=FakeLLM()"
   ]
  },
  {
   "cell_type": "code",
   "execution_count": 39,
   "id": "fe72aa7c",
   "metadata": {},
   "outputs": [],
   "source": [
    "class FakeStringOutputParser(Runnable):\n",
    "    def __init__(self):\n",
    "        pass  \n",
    "    def invoke(self,input_data):\n",
    "        return input_data['response']"
   ]
  },
  {
   "cell_type": "code",
   "execution_count": 40,
   "id": "62be252b",
   "metadata": {},
   "outputs": [],
   "source": [
    "class RunnableConnector(Runnable):\n",
    "    def __init__(self,runnable_list):\n",
    "        self.runnable_list=runnable_list\n",
    "\n",
    "    def invoke(self,input_data):\n",
    "        for runnable in self.runnable_list:\n",
    "            input_data=runnable.invoke(input_data)\n",
    "        \n",
    "        return input_data"
   ]
  },
  {
   "cell_type": "code",
   "execution_count": 31,
   "id": "d182c44f",
   "metadata": {},
   "outputs": [],
   "source": [
    "chain=RunnableConnector([template,llm])"
   ]
  },
  {
   "cell_type": "code",
   "execution_count": 33,
   "id": "564d40cb",
   "metadata": {},
   "outputs": [
    {
     "data": {
      "text/plain": [
       "{'response': 'IPL is create league'}"
      ]
     },
     "execution_count": 33,
     "metadata": {},
     "output_type": "execute_result"
    }
   ],
   "source": [
    "chain.invoke({'length':'long','topic':'india'})"
   ]
  },
  {
   "cell_type": "markdown",
   "id": "d2d5c037",
   "metadata": {},
   "source": [
    "## Here we will have write for joining nore than one chains"
   ]
  },
  {
   "cell_type": "code",
   "execution_count": 35,
   "id": "97a113ec",
   "metadata": {},
   "outputs": [],
   "source": [
    "template1=FakePromptTemplate(\n",
    "    template='Write a joke about {topic}',\n",
    "    input_variable=['topic']\n",
    ")"
   ]
  },
  {
   "cell_type": "code",
   "execution_count": 36,
   "id": "7d90b076",
   "metadata": {},
   "outputs": [],
   "source": [
    "template2=FakePromptTemplate(\n",
    "    template='Explain the following joke {response}',\n",
    "    input_variable=['response']\n",
    ")"
   ]
  },
  {
   "cell_type": "code",
   "execution_count": 37,
   "id": "213f12bd",
   "metadata": {},
   "outputs": [
    {
     "name": "stdout",
     "output_type": "stream",
     "text": [
      "LLM created\n"
     ]
    }
   ],
   "source": [
    "llm=FakeLLM()"
   ]
  },
  {
   "cell_type": "code",
   "execution_count": 41,
   "id": "fcb3664b",
   "metadata": {},
   "outputs": [],
   "source": [
    "parser=FakeStringOutputParser()"
   ]
  },
  {
   "cell_type": "code",
   "execution_count": 42,
   "id": "d16dfdbc",
   "metadata": {},
   "outputs": [],
   "source": [
    "chain1=RunnableConnector([template1,llm])"
   ]
  },
  {
   "cell_type": "code",
   "execution_count": 46,
   "id": "3aac7a67",
   "metadata": {},
   "outputs": [
    {
     "data": {
      "text/plain": [
       "{'response': 'AI stands for Artifical Intellegence'}"
      ]
     },
     "execution_count": 46,
     "metadata": {},
     "output_type": "execute_result"
    }
   ],
   "source": [
    "chain.invoke({'topic':'ai'})"
   ]
  },
  {
   "cell_type": "code",
   "execution_count": 47,
   "id": "33dcf35c",
   "metadata": {},
   "outputs": [],
   "source": [
    "chain2=RunnableConnector([template2,llm,parser])"
   ]
  },
  {
   "cell_type": "code",
   "execution_count": 48,
   "id": "a088e7ab",
   "metadata": {},
   "outputs": [
    {
     "data": {
      "text/plain": [
       "'IPL is create league'"
      ]
     },
     "execution_count": 48,
     "metadata": {},
     "output_type": "execute_result"
    }
   ],
   "source": [
    "chain2.invoke({'response':\"THis is joke\"})"
   ]
  },
  {
   "cell_type": "code",
   "execution_count": 50,
   "id": "6a5e9039",
   "metadata": {},
   "outputs": [],
   "source": [
    "final_chain=RunnableConnector([chain1,chain2])"
   ]
  },
  {
   "cell_type": "code",
   "execution_count": 51,
   "id": "d16d6683",
   "metadata": {},
   "outputs": [
    {
     "data": {
      "text/plain": [
       "'Delhi is Captial of india'"
      ]
     },
     "execution_count": 51,
     "metadata": {},
     "output_type": "execute_result"
    }
   ],
   "source": [
    "final_chain.invoke({'topic':'cricket'})"
   ]
  }
 ],
 "metadata": {
  "kernelspec": {
   "display_name": "myvenv (3.13.5)",
   "language": "python",
   "name": "python3"
  },
  "language_info": {
   "codemirror_mode": {
    "name": "ipython",
    "version": 3
   },
   "file_extension": ".py",
   "mimetype": "text/x-python",
   "name": "python",
   "nbconvert_exporter": "python",
   "pygments_lexer": "ipython3",
   "version": "3.13.5"
  }
 },
 "nbformat": 4,
 "nbformat_minor": 5
}
